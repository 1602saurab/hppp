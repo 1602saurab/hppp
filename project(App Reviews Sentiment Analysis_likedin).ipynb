{
 "cells": [
  {
   "cell_type": "markdown",
   "id": "6833940e",
   "metadata": {},
   "source": [
    "# App Reviews Sentiment Analysis \n",
    "\n",
    "App Reviews Sentiment Analysis means evaluating and understanding the sentiments expressed in user reviews of mobile applications . "
   ]
  },
  {
   "cell_type": "code",
   "execution_count": 4,
   "id": "d58c74ee",
   "metadata": {},
   "outputs": [],
   "source": [
    "import numpy as np \n",
    "import pandas as pd "
   ]
  },
  {
   "cell_type": "code",
   "execution_count": 5,
   "id": "1fdface9",
   "metadata": {},
   "outputs": [],
   "source": [
    "df = pd.read_csv(\"C:\\\\Users\\\\saurabh\\\\Desktop\\\\Newdat\\\\linkedin-reviews.csv\")"
   ]
  },
  {
   "cell_type": "code",
   "execution_count": 6,
   "id": "9c02e151",
   "metadata": {},
   "outputs": [
    {
     "data": {
      "text/html": [
       "<div>\n",
       "<style scoped>\n",
       "    .dataframe tbody tr th:only-of-type {\n",
       "        vertical-align: middle;\n",
       "    }\n",
       "\n",
       "    .dataframe tbody tr th {\n",
       "        vertical-align: top;\n",
       "    }\n",
       "\n",
       "    .dataframe thead th {\n",
       "        text-align: right;\n",
       "    }\n",
       "</style>\n",
       "<table border=\"1\" class=\"dataframe\">\n",
       "  <thead>\n",
       "    <tr style=\"text-align: right;\">\n",
       "      <th></th>\n",
       "      <th>Review</th>\n",
       "      <th>Rating</th>\n",
       "    </tr>\n",
       "  </thead>\n",
       "  <tbody>\n",
       "    <tr>\n",
       "      <th>0</th>\n",
       "      <td>Does absolutely nothing for a LinkedIn beginne...</td>\n",
       "      <td>1</td>\n",
       "    </tr>\n",
       "    <tr>\n",
       "      <th>1</th>\n",
       "      <td>Force close(galaxy tab)</td>\n",
       "      <td>1</td>\n",
       "    </tr>\n",
       "    <tr>\n",
       "      <th>2</th>\n",
       "      <td>Slow and it tries to upload your contacts with...</td>\n",
       "      <td>1</td>\n",
       "    </tr>\n",
       "    <tr>\n",
       "      <th>3</th>\n",
       "      <td>Add ability to customize the profile and move ...</td>\n",
       "      <td>4</td>\n",
       "    </tr>\n",
       "    <tr>\n",
       "      <th>4</th>\n",
       "      <td>Good app, but it's a pain that it's not possib...</td>\n",
       "      <td>4</td>\n",
       "    </tr>\n",
       "  </tbody>\n",
       "</table>\n",
       "</div>"
      ],
      "text/plain": [
       "                                              Review  Rating\n",
       "0  Does absolutely nothing for a LinkedIn beginne...       1\n",
       "1                            Force close(galaxy tab)       1\n",
       "2  Slow and it tries to upload your contacts with...       1\n",
       "3  Add ability to customize the profile and move ...       4\n",
       "4  Good app, but it's a pain that it's not possib...       4"
      ]
     },
     "execution_count": 6,
     "metadata": {},
     "output_type": "execute_result"
    }
   ],
   "source": [
    "df.head() "
   ]
  },
  {
   "cell_type": "code",
   "execution_count": 7,
   "id": "c4c1be0a",
   "metadata": {},
   "outputs": [],
   "source": [
    "import matplotlib.pyplot as plt \n",
    "import seaborn as sns "
   ]
  },
  {
   "cell_type": "code",
   "execution_count": 8,
   "id": "25932853",
   "metadata": {},
   "outputs": [
    {
     "name": "stdout",
     "output_type": "stream",
     "text": [
      "<class 'pandas.core.frame.DataFrame'>\n",
      "RangeIndex: 702 entries, 0 to 701\n",
      "Data columns (total 2 columns):\n",
      " #   Column  Non-Null Count  Dtype \n",
      "---  ------  --------------  ----- \n",
      " 0   Review  702 non-null    object\n",
      " 1   Rating  702 non-null    int64 \n",
      "dtypes: int64(1), object(1)\n",
      "memory usage: 11.1+ KB\n"
     ]
    }
   ],
   "source": [
    "df.info() "
   ]
  },
  {
   "cell_type": "markdown",
   "id": "dbf515d7",
   "metadata": {},
   "source": [
    "# Exploratory Data Analysis \n"
   ]
  },
  {
   "cell_type": "code",
   "execution_count": 9,
   "id": "1b3a5380",
   "metadata": {},
   "outputs": [
    {
     "data": {
      "image/png": "[encoded data removed]",
      "text/plain": [
       "<Figure size 648x360 with 1 Axes>"
      ]
     },
     "metadata": {},
     "output_type": "display_data"
    }
   ],
   "source": [
    "# Plotting the distribution of ratings \n",
    "sns.set(style = 'whitegrid')\n",
    "plt.figure(figsize = (9,5))\n",
    "sns.countplot(data = df , \n",
    "             x = 'Rating')\n",
    "plt.title('Distribution of Ratings')\n",
    "plt.xlabel('Rating')\n",
    "plt.ylabel('Count')\n",
    "plt.show()"
   ]
  },
  {
   "cell_type": "markdown",
   "id": "bb2e7931",
   "metadata": {},
   "source": [
    "# Now we will analyze the length of the reviews , as this can sometimes correlate with the sentiment or detail of feedback . We will first calculate the length of each review and the visualize the data . "
   ]
  },
  {
   "cell_type": "code",
   "execution_count": 10,
   "id": "e742567d",
   "metadata": {},
   "outputs": [],
   "source": [
    "df['Review Length'] = df['Review'].apply(len) "
   ]
  },
  {
   "cell_type": "code",
   "execution_count": 11,
   "id": "137ff983",
   "metadata": {},
   "outputs": [
    {
     "data": {
      "text/html": [
       "<div>\n",
       "<style scoped>\n",
       "    .dataframe tbody tr th:only-of-type {\n",
       "        vertical-align: middle;\n",
       "    }\n",
       "\n",
       "    .dataframe tbody tr th {\n",
       "        vertical-align: top;\n",
       "    }\n",
       "\n",
       "    .dataframe thead th {\n",
       "        text-align: right;\n",
       "    }\n",
       "</style>\n",
       "<table border=\"1\" class=\"dataframe\">\n",
       "  <thead>\n",
       "    <tr style=\"text-align: right;\">\n",
       "      <th></th>\n",
       "      <th>Review</th>\n",
       "      <th>Rating</th>\n",
       "      <th>Review Length</th>\n",
       "    </tr>\n",
       "  </thead>\n",
       "  <tbody>\n",
       "    <tr>\n",
       "      <th>0</th>\n",
       "      <td>Does absolutely nothing for a LinkedIn beginne...</td>\n",
       "      <td>1</td>\n",
       "      <td>80</td>\n",
       "    </tr>\n",
       "    <tr>\n",
       "      <th>1</th>\n",
       "      <td>Force close(galaxy tab)</td>\n",
       "      <td>1</td>\n",
       "      <td>23</td>\n",
       "    </tr>\n",
       "    <tr>\n",
       "      <th>2</th>\n",
       "      <td>Slow and it tries to upload your contacts with...</td>\n",
       "      <td>1</td>\n",
       "      <td>61</td>\n",
       "    </tr>\n",
       "  </tbody>\n",
       "</table>\n",
       "</div>"
      ],
      "text/plain": [
       "                                              Review  Rating  Review Length\n",
       "0  Does absolutely nothing for a LinkedIn beginne...       1             80\n",
       "1                            Force close(galaxy tab)       1             23\n",
       "2  Slow and it tries to upload your contacts with...       1             61"
      ]
     },
     "execution_count": 11,
     "metadata": {},
     "output_type": "execute_result"
    }
   ],
   "source": [
    "df.head(3)\n"
   ]
  },
  {
   "cell_type": "code",
   "execution_count": 12,
   "id": "2f4b4030",
   "metadata": {},
   "outputs": [
    {
     "data": {
      "image/png": "[encoded data removed]",
      "text/plain": [
       "<Figure size 648x432 with 1 Axes>"
      ]
     },
     "metadata": {},
     "output_type": "display_data"
    }
   ],
   "source": [
    "# Plotting the distribution of review lengths \n",
    "plt.figure(figsize = (9,6))\n",
    "sns.histplot(df['Review Length'], bins = 50 , kde = True)\n",
    "plt.title('Distribution of Review Lengths')\n",
    "plt.xlabel('Length of Review')\n",
    "plt.ylabel('Count') \n",
    "plt.show() "
   ]
  },
  {
   "cell_type": "markdown",
   "id": "37822452",
   "metadata": {},
   "source": [
    "# Adding Sentiment Labels in the Data \n",
    "We will use Textblob library. Textblob library provides a polarity score raning from -1(very negative) to +1(very positive) for a given text . We can use this score to classify each review's sentiment as positive, negative or neutral. \n",
    "\n",
    "!pip install textblob "
   ]
  },
  {
   "cell_type": "code",
   "execution_count": 13,
   "id": "57c82014",
   "metadata": {},
   "outputs": [],
   "source": [
    "from textblob import TextBlob "
   ]
  },
  {
   "cell_type": "code",
   "execution_count": 14,
   "id": "0ccf4e15",
   "metadata": {},
   "outputs": [],
   "source": [
    "def textblob_sentiment_analysis(review):\n",
    "    sentiment = TextBlob(review).sentiment \n",
    "    if sentiment.polarity > 0.1 :\n",
    "        return 'Positive' \n",
    "    elif sentiment.polarity < -0.1 :\n",
    "        return 'Negative'\n",
    "    else :\n",
    "        return 'Neutral'"
   ]
  },
  {
   "cell_type": "code",
   "execution_count": 15,
   "id": "bb93c5d8",
   "metadata": {},
   "outputs": [],
   "source": [
    "df['Sentiment'] = df['Review'].apply(textblob_sentiment_analysis)"
   ]
  },
  {
   "cell_type": "code",
   "execution_count": 16,
   "id": "256fbe62",
   "metadata": {},
   "outputs": [
    {
     "data": {
      "text/html": [
       "<div>\n",
       "<style scoped>\n",
       "    .dataframe tbody tr th:only-of-type {\n",
       "        vertical-align: middle;\n",
       "    }\n",
       "\n",
       "    .dataframe tbody tr th {\n",
       "        vertical-align: top;\n",
       "    }\n",
       "\n",
       "    .dataframe thead th {\n",
       "        text-align: right;\n",
       "    }\n",
       "</style>\n",
       "<table border=\"1\" class=\"dataframe\">\n",
       "  <thead>\n",
       "    <tr style=\"text-align: right;\">\n",
       "      <th></th>\n",
       "      <th>Review</th>\n",
       "      <th>Rating</th>\n",
       "      <th>Review Length</th>\n",
       "      <th>Sentiment</th>\n",
       "    </tr>\n",
       "  </thead>\n",
       "  <tbody>\n",
       "    <tr>\n",
       "      <th>0</th>\n",
       "      <td>Does absolutely nothing for a LinkedIn beginne...</td>\n",
       "      <td>1</td>\n",
       "      <td>80</td>\n",
       "      <td>Negative</td>\n",
       "    </tr>\n",
       "    <tr>\n",
       "      <th>1</th>\n",
       "      <td>Force close(galaxy tab)</td>\n",
       "      <td>1</td>\n",
       "      <td>23</td>\n",
       "      <td>Neutral</td>\n",
       "    </tr>\n",
       "    <tr>\n",
       "      <th>2</th>\n",
       "      <td>Slow and it tries to upload your contacts with...</td>\n",
       "      <td>1</td>\n",
       "      <td>61</td>\n",
       "      <td>Negative</td>\n",
       "    </tr>\n",
       "    <tr>\n",
       "      <th>3</th>\n",
       "      <td>Add ability to customize the profile and move ...</td>\n",
       "      <td>4</td>\n",
       "      <td>90</td>\n",
       "      <td>Neutral</td>\n",
       "    </tr>\n",
       "    <tr>\n",
       "      <th>4</th>\n",
       "      <td>Good app, but it's a pain that it's not possib...</td>\n",
       "      <td>4</td>\n",
       "      <td>133</td>\n",
       "      <td>Positive</td>\n",
       "    </tr>\n",
       "  </tbody>\n",
       "</table>\n",
       "</div>"
      ],
      "text/plain": [
       "                                              Review  Rating  Review Length  \\\n",
       "0  Does absolutely nothing for a LinkedIn beginne...       1             80   \n",
       "1                            Force close(galaxy tab)       1             23   \n",
       "2  Slow and it tries to upload your contacts with...       1             61   \n",
       "3  Add ability to customize the profile and move ...       4             90   \n",
       "4  Good app, but it's a pain that it's not possib...       4            133   \n",
       "\n",
       "  Sentiment  \n",
       "0  Negative  \n",
       "1   Neutral  \n",
       "2  Negative  \n",
       "3   Neutral  \n",
       "4  Positive  "
      ]
     },
     "execution_count": 16,
     "metadata": {},
     "output_type": "execute_result"
    }
   ],
   "source": [
    "df.head() "
   ]
  },
  {
   "cell_type": "markdown",
   "id": "1b2b1e92",
   "metadata": {},
   "source": [
    "# Analyzing App Reviews Sentiments "
   ]
  },
  {
   "cell_type": "code",
   "execution_count": 17,
   "id": "b9fe04e9",
   "metadata": {},
   "outputs": [],
   "source": [
    "sentiment_distribution = df['Sentiment'].value_counts() "
   ]
  },
  {
   "cell_type": "code",
   "execution_count": 18,
   "id": "d8686511",
   "metadata": {},
   "outputs": [
    {
     "data": {
      "text/plain": [
       "Positive    298\n",
       "Neutral     297\n",
       "Negative    107\n",
       "Name: Sentiment, dtype: int64"
      ]
     },
     "execution_count": 18,
     "metadata": {},
     "output_type": "execute_result"
    }
   ],
   "source": [
    "sentiment_distribution"
   ]
  },
  {
   "cell_type": "code",
   "execution_count": 19,
   "id": "3b3fcdbf",
   "metadata": {},
   "outputs": [
    {
     "data": {
      "image/png": "[encoded data removed]",
      "text/plain": [
       "<Figure size 648x360 with 1 Axes>"
      ]
     },
     "metadata": {},
     "output_type": "display_data"
    }
   ],
   "source": [
    "#Plotting the distribution of sentiments\n",
    "plt.figure(figsize = (9,5))\n",
    "sns.barplot(x = sentiment_distribution.index,\n",
    "           y = sentiment_distribution.values)\n",
    "plt.title('Distribution of Sentiments')\n",
    "plt.xlabel('Sentiment')\n",
    "plt.ylabel('Count')\n",
    "plt.show() "
   ]
  },
  {
   "cell_type": "markdown",
   "id": "838410dd",
   "metadata": {},
   "source": [
    "# So, we can see although the app has low ratings , still the reviewers don't use many negative words in the reviews for the app . \n",
    "\n",
    "Now , we will explore the relationship between the sentiments and the ratings . This analysis can help us understand whether there is a correlation between the sentiment of the text and the numerical ratings . "
   ]
  },
  {
   "cell_type": "code",
   "execution_count": 20,
   "id": "757f975f",
   "metadata": {},
   "outputs": [
    {
     "data": {
      "image/png": "[encoded data removed]",
      "text/plain": [
       "<Figure size 720x360 with 1 Axes>"
      ]
     },
     "metadata": {},
     "output_type": "display_data"
    }
   ],
   "source": [
    "plt.figure(figsize = (10,5)) \n",
    "sns.countplot(data = df , \n",
    "             x = 'Rating',\n",
    "             hue = 'Sentiment')\n",
    "plt.title('Sentiment Distribution Across Ratings')\n",
    "plt.xlabel('Rating')\n",
    "plt.ylabel('Count')\n",
    "plt.legend(title='Sentiment')\n",
    "plt.show() "
   ]
  },
  {
   "cell_type": "markdown",
   "id": "6a045722",
   "metadata": {},
   "source": [
    "# Summary \n",
    "\n",
    "So , App Reviews Sentiment Analysis is a valuable tool for app developers and business to understand user feedback , prioritze feature updates , and maintain a positive user community . "
   ]
  },
  {
   "cell_type": "code",
   "execution_count": null,
   "id": "e687165a",
   "metadata": {},
   "outputs": [],
   "source": []
  }
 ],
 "metadata": {
  "kernelspec": {
   "display_name": "Python 3 (ipykernel)",
   "language": "python",
   "name": "python3"
  },
  "language_info": {
   "codemirror_mode": {
    "name": "ipython",
    "version": 3
   },
   "file_extension": ".py",
   "mimetype": "text/x-python",
   "name": "python",
   "nbconvert_exporter": "python",
   "pygments_lexer": "ipython3",
   "version": "3.9.12"
  }
 },
 "nbformat": 4,
 "nbformat_minor": 5
}
